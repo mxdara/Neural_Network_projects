{
 "cells": [
  {
   "cell_type": "code",
   "execution_count": 1,
   "id": "fb7a9463",
   "metadata": {},
   "outputs": [],
   "source": [
    "from IPython.core.display import display, HTML\n",
    "display(HTML(\"<style>.container { width:100% !important; }</style>\"))"
   ]
  },
  {
   "cell_type": "code",
   "execution_count": 2,
   "id": "e804d949",
   "metadata": {},
   "outputs": [],
   "source": [
    "import tensorflow as tf\n",
    "from tensorflow import keras\n",
    "from tensorflow.keras.layers import Dense, Flatten, Convolution2D\n",
    "from tensorflow.keras.models import Sequential\n",
    "from tensorflow.keras.optimizers import Adam\n",
    "import numpy as np\n",
    "import random\n",
    "from nes_py.wrappers import JoypadSpace\n",
    "import gym_super_mario_bros\n",
    "from gym_super_mario_bros.actions import SIMPLE_MOVEMENT\n",
    "from gym_super_mario_bros.actions import COMPLEX_MOVEMENT\n",
    "\n",
    "\n",
    "from tensorflow.python.framework.ops import disable_eager_execution"
   ]
  },
  {
   "cell_type": "code",
   "execution_count": 3,
   "id": "8f838a34",
   "metadata": {
    "scrolled": true
   },
   "outputs": [],
   "source": [
    "env = gym_super_mario_bros.make('SuperMarioBros-1-1-v0')\n",
    "env = JoypadSpace(env, SIMPLE_MOVEMENT)\n",
    "height, width, channels = env.observation_space.shape\n",
    "\n",
    "action_space = env.get_action_meanings()  # \n",
    "actions = env.action_space.n #does not work cuz the game usese joypad"
   ]
  },
  {
   "cell_type": "code",
   "execution_count": 4,
   "id": "be11b9bb",
   "metadata": {},
   "outputs": [
    {
     "name": "stdout",
     "output_type": "stream",
     "text": [
      "7\n"
     ]
    }
   ],
   "source": [
    "print(actions)"
   ]
  },
  {
   "cell_type": "code",
   "execution_count": 5,
   "id": "e7522e8e",
   "metadata": {},
   "outputs": [
    {
     "data": {
      "text/plain": [
       "['NOOP']"
      ]
     },
     "execution_count": 5,
     "metadata": {},
     "output_type": "execute_result"
    }
   ],
   "source": [
    "env.unwrapped.get_action_meanings()"
   ]
  },
  {
   "cell_type": "code",
   "execution_count": 6,
   "id": "1a527a7f",
   "metadata": {
    "scrolled": true
   },
   "outputs": [
    {
     "data": {
      "text/plain": [
       "['NOOP', 'right', 'right A', 'right B', 'right A B', 'A', 'left']"
      ]
     },
     "execution_count": 6,
     "metadata": {},
     "output_type": "execute_result"
    }
   ],
   "source": [
    "action_space"
   ]
  },
  {
   "cell_type": "code",
   "execution_count": 8,
   "id": "044d21fe",
   "metadata": {
    "scrolled": true
   },
   "outputs": [
    {
     "data": {
      "text/plain": [
       "\"episode = 5\\nfor episode in range(1, episode+1):\\n    state = env.reset()\\n    done = False\\n    score = 0\\n    \\n    while not done:\\n        env.render()\\n        action = random.choice([0,1,2,3,4,5,6])\\n        n_state, reward, done, info = env.step(action)\\n        #env.step(valid_actions[np.random.randint(3)]) \\n        #env.step(action_space)\\n        score+=reward\\n    print('Episode:{} socre:{}'.format(episode, score))\\n\\nenv.close()\""
      ]
     },
     "execution_count": 8,
     "metadata": {},
     "output_type": "execute_result"
    }
   ],
   "source": [
    "'''episode = 5\n",
    "for episode in range(1, episode+1):\n",
    "    state = env.reset()\n",
    "    done = False\n",
    "    score = 0\n",
    "    \n",
    "    while not done:\n",
    "        env.render()\n",
    "        action = random.choice([0,1,2,3,4,5,6])\n",
    "        n_state, reward, done, info = env.step(action)\n",
    "        #env.step(valid_actions[np.random.randint(3)]) \n",
    "        #env.step(action_space)\n",
    "        score+=reward\n",
    "    print('Episode:{} socre:{}'.format(episode, score))\n",
    "\n",
    "env.close()'''"
   ]
  },
  {
   "cell_type": "markdown",
   "id": "860223f3",
   "metadata": {},
   "source": [
    "# Creating a Deep Learning Model with keras"
   ]
  },
  {
   "cell_type": "code",
   "execution_count": 4,
   "id": "d46ea5d8",
   "metadata": {},
   "outputs": [],
   "source": [
    "def build_model(height, width, channels, actions):\n",
    "    model = Sequential()\n",
    "    model.add(Convolution2D(128, (8,8), strides=(4,4), activation='relu', input_shape=(3, height, width, channels)))\n",
    "    model.add(Convolution2D(64, (4,4), strides=(2,2), activation='relu'))\n",
    "    model.add(Convolution2D(64, (4,4), activation='relu'))\n",
    "    model.add(Flatten())\n",
    "    model.add(Dense(512, activation='relu'))\n",
    "    model.add(Dense(256, activation='relu'))\n",
    "    model.add(Dense(actions, activation='linear'))\n",
    "    return model    "
   ]
  },
  {
   "cell_type": "code",
   "execution_count": 5,
   "id": "08f445f2",
   "metadata": {},
   "outputs": [],
   "source": [
    "model = build_model(height, width, channels, actions)"
   ]
  },
  {
   "cell_type": "code",
   "execution_count": 6,
   "id": "863f5e8b",
   "metadata": {},
   "outputs": [
    {
     "name": "stdout",
     "output_type": "stream",
     "text": [
      "Model: \"sequential\"\n",
      "_________________________________________________________________\n",
      "Layer (type)                 Output Shape              Param #   \n",
      "=================================================================\n",
      "conv2d (Conv2D)              (None, 3, 59, 63, 128)    24704     \n",
      "_________________________________________________________________\n",
      "conv2d_1 (Conv2D)            (None, 3, 28, 30, 64)     131136    \n",
      "_________________________________________________________________\n",
      "conv2d_2 (Conv2D)            (None, 3, 25, 27, 64)     65600     \n",
      "_________________________________________________________________\n",
      "flatten (Flatten)            (None, 129600)            0         \n",
      "_________________________________________________________________\n",
      "dense (Dense)                (None, 512)               66355712  \n",
      "_________________________________________________________________\n",
      "dense_1 (Dense)              (None, 256)               131328    \n",
      "_________________________________________________________________\n",
      "dense_2 (Dense)              (None, 7)                 1799      \n",
      "=================================================================\n",
      "Total params: 66,710,279\n",
      "Trainable params: 66,710,279\n",
      "Non-trainable params: 0\n",
      "_________________________________________________________________\n"
     ]
    }
   ],
   "source": [
    "model.summary()"
   ]
  },
  {
   "cell_type": "markdown",
   "id": "84f17db5",
   "metadata": {},
   "source": [
    "# Build an Agent with keras"
   ]
  },
  {
   "cell_type": "code",
   "execution_count": 7,
   "id": "0d9a2c1c",
   "metadata": {},
   "outputs": [],
   "source": [
    "from rl.agents import DQNAgent\n",
    "from rl.memory import SequentialMemory\n",
    "from rl.policy import LinearAnnealedPolicy, EpsGreedyQPolicy"
   ]
  },
  {
   "cell_type": "code",
   "execution_count": 27,
   "id": "870dad1d",
   "metadata": {},
   "outputs": [],
   "source": [
    "def build_agent(model, actions):\n",
    "    policy = LinearAnnealedPolicy(EpsGreedyQPolicy(), attr='eps', value_max=1., value_min=.1, value_test=.2, nb_steps=10000)\n",
    "    memory = SequentialMemory(limit=1000, window_length=3)\n",
    "    dqn = DQNAgent(model=model, \n",
    "                   memory=memory, \n",
    "                   policy=policy,\n",
    "                   enable_dueling_network=True, \n",
    "                   dueling_type='avg', \n",
    "                   nb_actions=actions, \n",
    "                   nb_steps_warmup=1000,\n",
    "                  )\n",
    "    return dqn"
   ]
  },
  {
   "cell_type": "code",
   "execution_count": 20,
   "id": "79e761f7",
   "metadata": {},
   "outputs": [],
   "source": [
    "disable_eager_execution()"
   ]
  },
  {
   "cell_type": "code",
   "execution_count": null,
   "id": "6818c4c2",
   "metadata": {
    "scrolled": true
   },
   "outputs": [],
   "source": [
    "#actionss = np.array(action_space)\n",
    "dqn = build_agent(model, actions)\n",
    "dqn.compile(Adam(learning_rate=1e-3))"
   ]
  },
  {
   "cell_type": "code",
   "execution_count": null,
   "id": "a27b9db5",
   "metadata": {},
   "outputs": [],
   "source": [
    "env.render()\n",
    "dqn.fit(env, nb_steps=10000, visualize=False, verbose=2)"
   ]
  }
 ],
 "metadata": {
  "kernelspec": {
   "display_name": "tensor",
   "language": "python",
   "name": "tensor"
  },
  "language_info": {
   "codemirror_mode": {
    "name": "ipython",
    "version": 3
   },
   "file_extension": ".py",
   "mimetype": "text/x-python",
   "name": "python",
   "nbconvert_exporter": "python",
   "pygments_lexer": "ipython3",
   "version": "3.6.13"
  }
 },
 "nbformat": 4,
 "nbformat_minor": 5
}
