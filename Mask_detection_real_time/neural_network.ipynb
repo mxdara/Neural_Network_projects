{
 "cells": [
  {
   "cell_type": "code",
   "execution_count": 2,
   "metadata": {},
   "outputs": [],
   "source": [
    "import tensorflow as tf\n",
    "from tensorflow import keras\n",
    "from tensorflow.keras.optimizers import RMSprop\n",
    "from tensorflow.keras.preprocessing.image import ImageDataGenerator\n",
    "from tensorflow.keras.models import Sequential, Model, load_model\n",
    "from tensorflow.keras.layers import Conv2D, Input, ZeroPadding2D, BatchNormalization, Activation, MaxPooling2D, Flatten, Dense, Dropout\n",
    "from tensorflow.keras.callbacks import TensorBoard, ModelCheckpoint\n",
    "from sklearn.model_selection import train_test_split\n",
    "from sklearn.metrics import f1_score\n",
    "from sklearn.utils import shuffle\n",
    "import imutils \n",
    "import numpy as np"
   ]
  },
  {
   "cell_type": "code",
   "execution_count": 4,
   "metadata": {},
   "outputs": [],
   "source": [
    "model =Sequential([\n",
    "    Conv2D(100, (3,3), activation='relu', input_shape=(150, 150, 3)),\n",
    "    MaxPooling2D(2,2),\n",
    "    \n",
    "    Conv2D(100, (3,3), activation='relu'),\n",
    "    MaxPooling2D(2,2),\n",
    "    \n",
    "    Flatten(),\n",
    "    Dropout(0.5),\n",
    "    Dense(50, activation='relu'),\n",
    "    Dense(2, activation='softmax')\n",
    "])\n",
    "model.compile(optimizer='adam', loss='binary_crossentropy', metrics=['acc'])\n"
   ]
  },
  {
   "cell_type": "code",
   "execution_count": 6,
   "metadata": {},
   "outputs": [
    {
     "name": "stdout",
     "output_type": "stream",
     "text": [
      "Model: \"sequential\"\n",
      "_________________________________________________________________\n",
      "Layer (type)                 Output Shape              Param #   \n",
      "=================================================================\n",
      "conv2d (Conv2D)              (None, 148, 148, 100)     2800      \n",
      "_________________________________________________________________\n",
      "max_pooling2d (MaxPooling2D) (None, 74, 74, 100)       0         \n",
      "_________________________________________________________________\n",
      "conv2d_1 (Conv2D)            (None, 72, 72, 100)       90100     \n",
      "_________________________________________________________________\n",
      "max_pooling2d_1 (MaxPooling2 (None, 36, 36, 100)       0         \n",
      "_________________________________________________________________\n",
      "flatten (Flatten)            (None, 129600)            0         \n",
      "_________________________________________________________________\n",
      "dropout (Dropout)            (None, 129600)            0         \n",
      "_________________________________________________________________\n",
      "dense (Dense)                (None, 50)                6480050   \n",
      "_________________________________________________________________\n",
      "dense_1 (Dense)              (None, 2)                 102       \n",
      "=================================================================\n",
      "Total params: 6,573,052\n",
      "Trainable params: 6,573,052\n",
      "Non-trainable params: 0\n",
      "_________________________________________________________________\n"
     ]
    }
   ],
   "source": [
    "model.summary()"
   ]
  },
  {
   "cell_type": "code",
   "execution_count": 5,
   "metadata": {},
   "outputs": [
    {
     "name": "stdout",
     "output_type": "stream",
     "text": [
      "Found 1315 images belonging to 2 classes.\n",
      "Found 194 images belonging to 2 classes.\n"
     ]
    }
   ],
   "source": [
    "Training_Dir = \"D:/jupyter notebook/mask_detection/dataset/Ltrain\"\n",
    "train_datagen = ImageDataGenerator(rescale=1.0/255,\n",
    "                                  rotation_range=40,\n",
    "                                  width_shift_range=0.2,\n",
    "                                  height_shift_range=0.2,\n",
    "                                  shear_range=0.2,\n",
    "                                  zoom_range=0.2,\n",
    "                                  horizontal_flip=True,\n",
    "                                  fill_mode='nearest'\n",
    "                                  )\n",
    "train_generator = train_datagen.flow_from_directory(Training_Dir,\n",
    "                                                   batch_size=10,\n",
    "                                                   target_size=(150,150))\n",
    "Validation_Dir = \"D:/jupyter notebook/mask_detection/dataset/Ltest\"\n",
    "validation_datagen = ImageDataGenerator(rescale=1.0/255)\n",
    "\n",
    "validation_generator = validation_datagen.flow_from_directory(Validation_Dir,\n",
    "                                                             batch_size=10,\n",
    "                                                             target_size=(150,150))\n",
    "model_path = \"weights.best.hdf5\"\n",
    "checkpoint = ModelCheckpoint('model_mask-{epoch:03d}.model', monitor='val_loss', verbose=0, save_best_only=True, mode='auto')\n"
   ]
  },
  {
   "cell_type": "code",
   "execution_count": 7,
   "metadata": {
    "scrolled": false
   },
   "outputs": [
    {
     "name": "stdout",
     "output_type": "stream",
     "text": [
      "Epoch 1/20\n",
      "132/132 [==============================] - 84s 633ms/step - loss: 0.2846 - acc: 0.8989 - val_loss: 0.1587 - val_acc: 0.9330\n",
      "INFO:tensorflow:Assets written to: model_mask-001.model\\assets\n",
      "Epoch 2/20\n",
      "132/132 [==============================] - 80s 604ms/step - loss: 0.2897 - acc: 0.8897 - val_loss: 0.0819 - val_acc: 0.9691\n",
      "INFO:tensorflow:Assets written to: model_mask-002.model\\assets\n",
      "Epoch 3/20\n",
      "132/132 [==============================] - 80s 608ms/step - loss: 0.2202 - acc: 0.9080 - val_loss: 0.0788 - val_acc: 0.9639\n",
      "INFO:tensorflow:Assets written to: model_mask-003.model\\assets\n",
      "Epoch 4/20\n",
      "132/132 [==============================] - 81s 617ms/step - loss: 0.2102 - acc: 0.9202 - val_loss: 0.0526 - val_acc: 0.9948\n",
      "INFO:tensorflow:Assets written to: model_mask-004.model\\assets\n",
      "Epoch 5/20\n",
      "132/132 [==============================] - 80s 608ms/step - loss: 0.1893 - acc: 0.9376 - val_loss: 0.1251 - val_acc: 0.9330\n",
      "Epoch 6/20\n",
      "132/132 [==============================] - 80s 608ms/step - loss: 0.2173 - acc: 0.9217 - val_loss: 0.0622 - val_acc: 0.9845\n",
      "Epoch 7/20\n",
      "132/132 [==============================] - 80s 605ms/step - loss: 0.1581 - acc: 0.9407 - val_loss: 0.1257 - val_acc: 0.9381\n",
      "Epoch 8/20\n",
      "132/132 [==============================] - 81s 614ms/step - loss: 0.1552 - acc: 0.9399 - val_loss: 0.0624 - val_acc: 0.9639\n",
      "Epoch 9/20\n",
      "132/132 [==============================] - 80s 604ms/step - loss: 0.1744 - acc: 0.9316 - val_loss: 0.0283 - val_acc: 0.9897\n",
      "INFO:tensorflow:Assets written to: model_mask-009.model\\assets\n",
      "Epoch 10/20\n",
      "132/132 [==============================] - 80s 608ms/step - loss: 0.1633 - acc: 0.9384 - val_loss: 0.0318 - val_acc: 0.9897\n",
      "Epoch 11/20\n",
      "132/132 [==============================] - 80s 604ms/step - loss: 0.1430 - acc: 0.9498 - val_loss: 0.0500 - val_acc: 0.9845\n",
      "Epoch 12/20\n",
      "132/132 [==============================] - 80s 605ms/step - loss: 0.1588 - acc: 0.9452 - val_loss: 0.0353 - val_acc: 0.9897\n",
      "Epoch 13/20\n",
      "132/132 [==============================] - 80s 608ms/step - loss: 0.1466 - acc: 0.9445 - val_loss: 0.0875 - val_acc: 0.9845\n",
      "Epoch 14/20\n",
      "132/132 [==============================] - 83s 631ms/step - loss: 0.1415 - acc: 0.9452 - val_loss: 0.0527 - val_acc: 0.9742\n",
      "Epoch 15/20\n",
      "132/132 [==============================] - 82s 623ms/step - loss: 0.1196 - acc: 0.9483 - val_loss: 0.0198 - val_acc: 0.9897\n",
      "INFO:tensorflow:Assets written to: model_mask-015.model\\assets\n",
      "Epoch 16/20\n",
      "132/132 [==============================] - 81s 618ms/step - loss: 0.1322 - acc: 0.9559 - val_loss: 0.1416 - val_acc: 0.9381\n",
      "Epoch 17/20\n",
      "132/132 [==============================] - 80s 607ms/step - loss: 0.1193 - acc: 0.9559 - val_loss: 0.0392 - val_acc: 0.9794\n",
      "Epoch 18/20\n",
      "132/132 [==============================] - 82s 622ms/step - loss: 0.1430 - acc: 0.9498 - val_loss: 0.0504 - val_acc: 1.0000\n",
      "Epoch 19/20\n",
      "132/132 [==============================] - 83s 627ms/step - loss: 0.1778 - acc: 0.9422 - val_loss: 0.0251 - val_acc: 0.9897\n",
      "Epoch 20/20\n",
      "132/132 [==============================] - 89s 674ms/step - loss: 0.1421 - acc: 0.9506 - val_loss: 0.0302 - val_acc: 0.9845\n"
     ]
    }
   ],
   "source": [
    "history = model.fit(train_generator,\n",
    "                   epochs=20,\n",
    "                   validation_data=validation_generator,\n",
    "                   callbacks=[checkpoint]\n",
    "                   )"
   ]
  },
  {
   "cell_type": "code",
   "execution_count": 7,
   "metadata": {},
   "outputs": [
    {
     "name": "stdout",
     "output_type": "stream",
     "text": [
      "132/132 [==============================] - 61s 458ms/step - loss: 0.1595 - acc: 0.9445\n"
     ]
    },
    {
     "data": {
      "text/plain": [
       "[0.15952137112617493, 0.944486677646637]"
      ]
     },
     "execution_count": 7,
     "metadata": {},
     "output_type": "execute_result"
    }
   ],
   "source": [
    "from tensorflow.keras.models import load_model\n",
    "model = load_model('model2-010.model')\n",
    "model.evaluate(train_generator)"
   ]
  },
  {
   "cell_type": "code",
   "execution_count": 3,
   "metadata": {},
   "outputs": [
    {
     "ename": "NameError",
     "evalue": "name 'validation_generator' is not defined",
     "output_type": "error",
     "traceback": [
      "\u001b[1;31m---------------------------------------------------------------------------\u001b[0m",
      "\u001b[1;31mNameError\u001b[0m                                 Traceback (most recent call last)",
      "\u001b[1;32m<ipython-input-3-08e89c06026a>\u001b[0m in \u001b[0;36m<module>\u001b[1;34m\u001b[0m\n\u001b[0;32m      1\u001b[0m \u001b[1;32mfrom\u001b[0m \u001b[0mtensorflow\u001b[0m\u001b[1;33m.\u001b[0m\u001b[0mkeras\u001b[0m\u001b[1;33m.\u001b[0m\u001b[0mmodels\u001b[0m \u001b[1;32mimport\u001b[0m \u001b[0mload_model\u001b[0m\u001b[1;33m\u001b[0m\u001b[1;33m\u001b[0m\u001b[0m\n\u001b[0;32m      2\u001b[0m \u001b[0mmodel\u001b[0m \u001b[1;33m=\u001b[0m \u001b[0mload_model\u001b[0m\u001b[1;33m(\u001b[0m\u001b[1;34m'model_mask-015.model'\u001b[0m\u001b[1;33m)\u001b[0m\u001b[1;33m\u001b[0m\u001b[1;33m\u001b[0m\u001b[0m\n\u001b[1;32m----> 3\u001b[1;33m \u001b[0mmodel\u001b[0m\u001b[1;33m.\u001b[0m\u001b[0mevaluate\u001b[0m\u001b[1;33m(\u001b[0m\u001b[0mvalidation_generator\u001b[0m\u001b[1;33m)\u001b[0m\u001b[1;33m\u001b[0m\u001b[1;33m\u001b[0m\u001b[0m\n\u001b[0m",
      "\u001b[1;31mNameError\u001b[0m: name 'validation_generator' is not defined"
     ]
    }
   ],
   "source": [
    "from tensorflow.keras.models import load_model\n",
    "model = load_model('model_mask-015.model')\n",
    "model.evaluate(validation_generator)"
   ]
  }
 ],
 "metadata": {
  "kernelspec": {
   "display_name": "tensor",
   "language": "python",
   "name": "tensor"
  },
  "language_info": {
   "codemirror_mode": {
    "name": "ipython",
    "version": 3
   },
   "file_extension": ".py",
   "mimetype": "text/x-python",
   "name": "python",
   "nbconvert_exporter": "python",
   "pygments_lexer": "ipython3",
   "version": "3.6.12"
  }
 },
 "nbformat": 4,
 "nbformat_minor": 5
}
