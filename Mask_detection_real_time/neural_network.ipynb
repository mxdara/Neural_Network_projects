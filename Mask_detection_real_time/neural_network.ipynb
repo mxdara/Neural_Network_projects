{
 "cells": [
  {
   "cell_type": "code",
   "execution_count": 1,
   "id": "577679e7",
   "metadata": {},
   "outputs": [],
   "source": [
    "import tensorflow as tf\n",
    "from tensorflow import keras\n",
    "from tensorflow.keras.optimizers import RMSprop\n",
    "from tensorflow.keras.preprocessing.image import ImageDataGenerator\n",
    "from tensorflow.keras.models import Sequential, Model, load_model\n",
    "from tensorflow.keras.layers import Conv2D, Input, ZeroPadding2D, BatchNormalization, Activation, MaxPooling2D, Flatten, Dense, Dropout\n",
    "from tensorflow.keras.callbacks import TensorBoard, ModelCheckpoint\n",
    "from sklearn.model_selection import train_test_split\n",
    "from sklearn.metrics import f1_score\n",
    "from sklearn.utils import shuffle\n",
    "import imutils \n",
    "import numpy as np"
   ]
  },
  {
   "cell_type": "code",
   "execution_count": 2,
   "id": "f685dc6f",
   "metadata": {},
   "outputs": [],
   "source": [
    "model = Sequential([\n",
    "    Conv2D(200, (3,3), activation='relu', input_shape=(150, 150, 3)),\n",
    "    MaxPooling2D(2,2),\n",
    "    \n",
    "    Conv2D(100, (3,3), activation='relu'),\n",
    "    MaxPooling2D(2,2),\n",
    "    \n",
    "    Flatten(),\n",
    "    Dropout(0.5),\n",
    "    Dense(50, activation='relu'),\n",
    "    Dense(2, activation='softmax')\n",
    "])\n",
    "model.compile(optimizer='adam', loss='binary_crossentropy', metrics=['acc'])"
   ]
  },
  {
   "cell_type": "code",
   "execution_count": 3,
   "id": "0091cf6a",
   "metadata": {},
   "outputs": [
    {
     "name": "stdout",
     "output_type": "stream",
     "text": [
      "Found 1315 images belonging to 2 classes.\n",
      "Found 194 images belonging to 2 classes.\n"
     ]
    }
   ],
   "source": [
    "Training_Dir = \"C:/Users/SAMEER/Desktop/jupytr_notebook_machine_learning/PROJECT_SURVEY CORPS/Mask_detection_real_time/Dataset/Ltrain\"\n",
    "train_datagen = ImageDataGenerator(rescale=1.0/255,\n",
    "                                  rotation_range=40,\n",
    "                                  width_shift_range=0.2,\n",
    "                                  height_shift_range=0.2,\n",
    "                                  shear_range=0.2,\n",
    "                                  zoom_range=0.2,\n",
    "                                  horizontal_flip=True,\n",
    "                                  fill_mode='nearest'\n",
    "                                  )\n",
    "train_generator = train_datagen.flow_from_directory(Training_Dir,\n",
    "                                                   batch_size=10,\n",
    "                                                   target_size=(150,150))\n",
    "Validation_Dir = \"C:/Users/SAMEER/Desktop/jupytr_notebook_machine_learning/PROJECT_SURVEY CORPS/Mask_detection_real_time/Dataset/Ltest\"\n",
    "validation_datagen = ImageDataGenerator(rescale=1.0/255)\n",
    "\n",
    "validation_generator = validation_datagen.flow_from_directory(Validation_Dir,\n",
    "                                                             batch_size=10,\n",
    "                                                             target_size=(150,150))\n",
    "model_path = \"weights.best.hdf5\"\n",
    "checkpoint = ModelCheckpoint('model_mask-{epoch:03d}.model', monitor='val_loss', verbose=0, save_best_only=True, mode='auto')\n"
   ]
  },
  {
   "cell_type": "code",
   "execution_count": null,
   "id": "26b637b5",
   "metadata": {},
   "outputs": [
    {
     "name": "stdout",
     "output_type": "stream",
     "text": [
      "Epoch 1/20\n",
      "132/132 [==============================] - 165s 1s/step - loss: 0.7017 - acc: 0.5954 - val_loss: 0.6930 - val_acc: 0.5052\n",
      "INFO:tensorflow:Assets written to: model_mask-001.model\\assets\n",
      "Epoch 2/20\n",
      "132/132 [==============================] - 162s 1s/step - loss: 0.6917 - acc: 0.5232 - val_loss: 0.6801 - val_acc: 0.6186\n",
      "INFO:tensorflow:Assets written to: model_mask-002.model\\assets\n",
      "Epoch 3/20\n",
      "132/132 [==============================] - 151s 1s/step - loss: 0.6120 - acc: 0.6373 - val_loss: 0.6637 - val_acc: 0.6753\n",
      "INFO:tensorflow:Assets written to: model_mask-003.model\\assets\n",
      "Epoch 4/20\n",
      "132/132 [==============================] - 152s 1s/step - loss: 0.6962 - acc: 0.5072 - val_loss: 0.6931 - val_acc: 0.5052\n",
      "Epoch 5/20\n",
      "132/132 [==============================] - 166s 1s/step - loss: 0.6935 - acc: 0.4996 - val_loss: 0.6927 - val_acc: 0.5155\n",
      "Epoch 6/20\n",
      "132/132 [==============================] - 152s 1s/step - loss: 0.6932 - acc: 0.4897 - val_loss: 0.6923 - val_acc: 0.5052\n",
      "Epoch 7/20\n",
      " 65/132 [=============>................] - ETA: 1:13 - loss: 0.6932 - acc: 0.5138"
     ]
    }
   ],
   "source": [
    "history = model.fit(train_generator,\n",
    "                   epochs=20,\n",
    "                   validation_data=validation_generator,\n",
    "                   callbacks=[checkpoint]\n",
    "                   )"
   ]
  },
  {
   "cell_type": "code",
   "execution_count": null,
   "id": "1bcddddf",
   "metadata": {},
   "outputs": [],
   "source": []
  },
  {
   "cell_type": "code",
   "execution_count": null,
   "id": "acb64400",
   "metadata": {
    "scrolled": true
   },
   "outputs": [],
   "source": [
    "model = load_model(model)\n",
    "model.summary()"
   ]
  },
  {
   "cell_type": "code",
   "execution_count": null,
   "id": "2e1a70ea",
   "metadata": {},
   "outputs": [],
   "source": [
    "model = load_model('weights.best.hdf5')"
   ]
  }
 ],
 "metadata": {
  "kernelspec": {
   "display_name": "tensor",
   "language": "python",
   "name": "tensor"
  },
  "language_info": {
   "codemirror_mode": {
    "name": "ipython",
    "version": 3
   },
   "file_extension": ".py",
   "mimetype": "text/x-python",
   "name": "python",
   "nbconvert_exporter": "python",
   "pygments_lexer": "ipython3",
   "version": "3.6.12"
  }
 },
 "nbformat": 4,
 "nbformat_minor": 5
}
