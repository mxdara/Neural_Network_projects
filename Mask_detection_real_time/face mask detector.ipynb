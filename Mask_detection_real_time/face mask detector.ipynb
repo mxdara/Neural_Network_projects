{
 "cells": [
  {
   "cell_type": "code",
   "execution_count": 9,
   "id": "77e6b172",
   "metadata": {
    "scrolled": true
   },
   "outputs": [],
   "source": [
    "import cv2 \n",
    "import numpy as np\n",
    "from tensorflow.keras.models import load_model\n",
    "model = load_model('C:/Users/SAMEER/Desktop/jupytr_notebook_machine_learning/PROJECT_SURVEY CORPS/Mask_detection_real_time/weights.best.hdf5')\n",
    "\n",
    "labels_dict = {0: 'without mask', 1:'mask'}\n",
    "color_dict={0:(0,0,255), 1:(0,255,0)}\n",
    "\n",
    "size = 4\n",
    "#starting video capture\n",
    "webcam = cv2.VideoCapture(0)\n",
    "#loading the opencv classifier\n",
    "classifier = cv2.CascadeClassifier(cv2.data.haarcascades +'haarcascade_frontalface_default.xml')\n",
    "\n",
    "\n",
    "while True:\n",
    "    (rval, im) = webcam.read()\n",
    "    im = cv2.flip(im, 1, 1) #flip to act as a mirror\n",
    "    \n",
    "    # resize the image to speed up detection\n",
    "    mini = cv2.resize(im, (im.shape[1]//size, im.shape[0]//size))\n",
    "    \n",
    "    # Detect multiscale/ face\n",
    "    faces = classifier.detectMultiScale(mini)\n",
    "    \n",
    "    # draw rectangles around face\n",
    "    for f in faces:\n",
    "        (x, y, w, h) = [v * size for v in f]#Scale the shapesize backup\n",
    "        #Sace just the rectangle face in SubRecFaces\n",
    "        face_img = im[y:y+h, x:x+w]\n",
    "        resized = cv2.resize(face_img, (150, 150))\n",
    "        normalized = resized/255.0\n",
    "        reshaped = np.reshape(normalized,(1, 150, 150, 3))\n",
    "        reshaped = np.vstack([reshaped])\n",
    "        result = model.predict(reshaped)\n",
    "        #print(result)\n",
    "        \n",
    "        label = np.argmax(result, axis=1)[0]\n",
    "        \n",
    "        cv2.rectangle(im, (x,y), (x+w, y+h), color_dict[label], 2)\n",
    "        cv2.rectangle(im, (x,y-40), (x+w,y),color_dict[label],-1)\n",
    "        cv2.putText(im, labels_dict[label], (x,y-10), cv2.FONT_HERSHEY_SIMPLEX,0.8,(255,255,255),2)\n",
    "    #show image\n",
    "    cv2.imshow('LIVE', im)\n",
    "    key = cv2.waitKey(10)\n",
    "    #ESC key breaks the loop\n",
    "    if key == 27:\n",
    "        break\n",
    "#shutting down webcam\n",
    "webcam.release()\n",
    "#clossing program window\n",
    "cv2.destroyAllWindows()"
   ]
  }
 ],
 "metadata": {
  "kernelspec": {
   "display_name": "tensor",
   "language": "python",
   "name": "tensor"
  },
  "language_info": {
   "codemirror_mode": {
    "name": "ipython",
    "version": 3
   },
   "file_extension": ".py",
   "mimetype": "text/x-python",
   "name": "python",
   "nbconvert_exporter": "python",
   "pygments_lexer": "ipython3",
   "version": "3.6.12"
  }
 },
 "nbformat": 4,
 "nbformat_minor": 5
}
